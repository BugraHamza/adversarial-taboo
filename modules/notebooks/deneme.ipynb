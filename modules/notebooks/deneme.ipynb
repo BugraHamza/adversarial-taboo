{
 "cells": [
  {
   "cell_type": "code",
   "execution_count": 1,
   "metadata": {
    "collapsed": true
   },
   "outputs": [],
   "source": [
    "import re\n",
    "from datasets import load_dataset, concatenate_datasets\n",
    "from zemberek import TurkishSentenceExtractor"
   ]
  },
  {
   "cell_type": "code",
   "execution_count": 2,
   "outputs": [
    {
     "name": "stdout",
     "output_type": "stream",
     "text": [
      "2023-03-18 01:01:11,440 - datasets.builder - WARNING\n",
      "Msg: Found cached dataset tquad2 (/Users/quimba/.cache/huggingface/datasets/tquad2/tquad2/2.0.0/ee17d1274749a6ce551c3c53fd89e7a3e58c4511d454f939628b2bad6b861091)\n",
      "\n"
     ]
    },
    {
     "data": {
      "text/plain": "Dataset({\n    features: ['id', 'title', 'context', 'question', 'answers'],\n    num_rows: 142\n})"
     },
     "execution_count": 2,
     "metadata": {},
     "output_type": "execute_result"
    }
   ],
   "source": [
    "tquad = load_dataset('../../taboo-datasets/tquad2', split='train[:1%]')\n",
    "tquad"
   ],
   "metadata": {
    "collapsed": false
   }
  },
  {
   "cell_type": "code",
   "execution_count": 126,
   "outputs": [
    {
     "name": "stdout",
     "output_type": "stream",
     "text": [
      "2023-03-02 21:52:43,775 - datasets.builder - WARNING\n",
      "Msg: Found cached dataset xquad (/Users/quimba/.cache/huggingface/datasets/xquad/xquad.tr/1.0.0/39e1ff0497cbbfb79bbff61024031c10872bbd7c4fd8bc250207a965c39d3336)\n",
      "\n",
      "2023-03-02 21:52:43,779 - datasets.arrow_dataset - WARNING\n",
      "Msg: Loading cached processed dataset at /Users/quimba/.cache/huggingface/datasets/xquad/xquad.tr/1.0.0/39e1ff0497cbbfb79bbff61024031c10872bbd7c4fd8bc250207a965c39d3336/cache-a6fc9a4262e90365.arrow\n",
      "\n"
     ]
    },
    {
     "data": {
      "text/plain": "Dataset({\n    features: ['id', 'context', 'question', 'answers'],\n    num_rows: 1190\n})"
     },
     "execution_count": 126,
     "metadata": {},
     "output_type": "execute_result"
    }
   ],
   "source": [
    "xquad = load_dataset('xquad', 'xquad.tr', split='validation')\n",
    "\n",
    "xquad = xquad.map(lambda x: {'context': x['context'].encode('iso-8859-9', 'ignore').decode('iso-8859-9')})\n",
    "xquad"
   ],
   "metadata": {
    "collapsed": false
   }
  },
  {
   "cell_type": "code",
   "execution_count": 138,
   "outputs": [
    {
     "data": {
      "text/plain": "Dataset({\n    features: ['id', 'context', 'question', 'answers'],\n    num_rows: 1332\n})"
     },
     "execution_count": 138,
     "metadata": {},
     "output_type": "execute_result"
    }
   ],
   "source": [
    "my_quad = concatenate_datasets([xquad, tquad]).remove_columns(['title'])\n",
    "my_quad"
   ],
   "metadata": {
    "collapsed": false
   }
  },
  {
   "cell_type": "code",
   "execution_count": 3,
   "outputs": [],
   "source": [
    "my_quad=tquad"
   ],
   "metadata": {
    "collapsed": false
   }
  },
  {
   "cell_type": "code",
   "execution_count": 5,
   "outputs": [
    {
     "data": {
      "text/plain": "Map:   0%|          | 0/142 [00:00<?, ? examples/s]",
      "application/vnd.jupyter.widget-view+json": {
       "version_major": 2,
       "version_minor": 0,
       "model_id": "8ff46a8c6de242258a40d64bb9deb8a0"
      }
     },
     "metadata": {},
     "output_type": "display_data"
    },
    {
     "data": {
      "text/plain": "Map:   0%|          | 0/142 [00:00<?, ? examples/s]",
      "application/vnd.jupyter.widget-view+json": {
       "version_major": 2,
       "version_minor": 0,
       "model_id": "d44dce4302434079bff4fb2f005a2c7c"
      }
     },
     "metadata": {},
     "output_type": "display_data"
    }
   ],
   "source": [
    "def get_clozes(x):\n",
    "    extractor = TurkishSentenceExtractor()\n",
    "    unique_answers = set()\n",
    "\n",
    "    id_ = x['id']\n",
    "    context = x['context']\n",
    "    question = x['question']\n",
    "    answer = x['answers']\n",
    "    answer_texts, answer_starts = answer['text'], answer['answer_start']\n",
    "\n",
    "    new_rows = {'id': [], 'context': [], 'question': [], 'answer': [], 'answer_start': [], 'cloze': []}\n",
    "    for text, start in zip(answer_texts, answer_starts):\n",
    "        for span in extractor.extract_to_spans(context):\n",
    "            if text not in unique_answers and span.in_span(start):\n",
    "                unique_answers.add(text)\n",
    "\n",
    "                new_rows['id'].append(id_)\n",
    "                new_rows['context'].append(context)\n",
    "                new_rows['question'].append(question)\n",
    "                new_rows['answer'].append(text)\n",
    "                new_rows['answer_start'].append(start)\n",
    "                new_rows['cloze'].append(span.get_sub_string(context))\n",
    "\n",
    "    return new_rows\n",
    "\n",
    "\n",
    "#my_quad = concatenate_datasets([xquad, tquad]).remove_columns(['title'])\n",
    "my_quad = my_quad.map(get_clozes, remove_columns=['id', 'context', 'question', 'answers'])\n",
    "my_quad = my_quad.map(lambda x: {'id': x['id'][0], 'context': x['context'][0], 'question': x['question'][0], 'answer': x['answer'][0], 'answer_start': x['answer_start'][0], 'cloze': x['cloze'][0]})"
   ],
   "metadata": {
    "collapsed": false
   }
  },
  {
   "cell_type": "code",
   "execution_count": 6,
   "outputs": [
    {
     "data": {
      "text/plain": "{'id': '56dde1d966d3e219004dad8d',\n 'title': 'Normans',\n 'context': \"Rollo'nun gelişinden önce popülasyonları Picardy'den veya 'Franklar' olarak nitelendirilen Île-de-France'den farklı değildi. Daha önceki Viking yerleşimcileri 880'lerde gelmeye başlamıştı ancak doğudaki koloniler (Roumois ve Pays de Caux) arasında alçak Seine vadisi çevresinde ve batıdaki Cotentin Yarımadası'ndaki koloniler arasında bölündü ve hemen hemen hiçbir yabancı yerleşimci olmadan nüfusun aynı kaldığı geleneksel pagii ile ayrıldılar.  Normandiya ve Atlantik kıyılarının bir kısmına baskın düzenleyen ve yerleşen Rollo'nun muhalifleri Norveçliler, İskandinav-İskoçyalılar, Orkney Vikingler, muhtemelen İsveçliler ve Norveç kontrolündeki İngiliz Danelaw'lardan Anglo Danimarkalıları içermektedir. \",\n 'question': 'Kim geldiğinde orijinal viking yerleşimcilerine ortak bir kimlik vermiştir?',\n 'answer': 'Rollo',\n 'answer_start': 0,\n 'cloze': \"Rollo'nun gelişinden önce popülasyonları Picardy'den veya 'Franklar' olarak nitelendirilen Île-de-France'den farklı değildi.\"}"
     },
     "execution_count": 6,
     "metadata": {},
     "output_type": "execute_result"
    }
   ],
   "source": [
    "my_quad[0]"
   ],
   "metadata": {
    "collapsed": false
   }
  },
  {
   "cell_type": "code",
   "execution_count": 7,
   "outputs": [
    {
     "data": {
      "text/plain": "Creating CSV from Arrow format:   0%|          | 0/1 [00:00<?, ?ba/s]",
      "application/vnd.jupyter.widget-view+json": {
       "version_major": 2,
       "version_minor": 0,
       "model_id": "da979400faee459c8ec41a5c6717aa90"
      }
     },
     "metadata": {},
     "output_type": "display_data"
    },
    {
     "data": {
      "text/plain": "148050"
     },
     "execution_count": 7,
     "metadata": {},
     "output_type": "execute_result"
    }
   ],
   "source": [
    "my_quad.to_csv('tquad2_clozes.csv', index=False)"
   ],
   "metadata": {
    "collapsed": false
   }
  },
  {
   "cell_type": "code",
   "execution_count": null,
   "outputs": [],
   "source": [],
   "metadata": {
    "collapsed": false
   }
  }
 ],
 "metadata": {
  "kernelspec": {
   "display_name": "Python 3",
   "language": "python",
   "name": "python3"
  },
  "language_info": {
   "codemirror_mode": {
    "name": "ipython",
    "version": 2
   },
   "file_extension": ".py",
   "mimetype": "text/x-python",
   "name": "python",
   "nbconvert_exporter": "python",
   "pygments_lexer": "ipython2",
   "version": "2.7.6"
  }
 },
 "nbformat": 4,
 "nbformat_minor": 0
}
