{
 "metadata": {
  "kernelspec": {
   "display_name": "Python 3",
   "language": "python",
   "name": "python3"
  },
  "language_info": {
   "name": "python",
   "version": "3.7.12",
   "mimetype": "text/x-python",
   "codemirror_mode": {
    "name": "ipython",
    "version": 3
   },
   "pygments_lexer": "ipython3",
   "nbconvert_exporter": "python",
   "file_extension": ".py"
  },
  "colab": {
   "provenance": []
  },
  "gpuClass": "standard"
 },
 "nbformat_minor": 0,
 "nbformat": 4,
 "cells": [
  {
   "cell_type": "code",
   "source": [
    "import pandas as pd\n",
    "\n",
    "import tensorflow as tf\n",
    "from evaluate import load\n",
    "\n",
    "from transformers import AutoTokenizer, TFBertModel\n",
    "\n",
    "from tqdm import tqdm, trange"
   ],
   "metadata": {
    "execution": {
     "iopub.status.busy": "2023-03-08T18:33:35.664253Z",
     "iopub.execute_input": "2023-03-08T18:33:35.664997Z",
     "iopub.status.idle": "2023-03-08T18:33:45.472317Z",
     "shell.execute_reply.started": "2023-03-08T18:33:35.664877Z",
     "shell.execute_reply": "2023-03-08T18:33:45.471158Z"
    },
    "trusted": true,
    "id": "w8IHlnyX14Tn"
   },
   "execution_count": 43,
   "outputs": []
  },
  {
   "cell_type": "code",
   "source": [
    "BATCH_SIZE = 2\n",
    "AUTOTUNE = tf.data.AUTOTUNE\n",
    "MODEL_PATH = 'dbmdz/bert-base-turkish-cased'\n",
    "TRAIN_DIR = '/content/drive/MyDrive/adversarial-taboo/adversarial-taboo datasets/my_quad.csv'"
   ],
   "metadata": {
    "id": "9U7zbMYUm2k7"
   },
   "execution_count": 4,
   "outputs": []
  },
  {
   "cell_type": "code",
   "source": [
    "bert_tokenizer = AutoTokenizer.from_pretrained(MODEL_PATH)\n",
    "bert_model = TFBertModel.from_pretrained(MODEL_PATH)\n",
    "\n",
    "## freeze the model\n",
    "bert_model.trainable = False\n",
    "max_position_embeddings = bert_model.config.max_position_embeddings\n",
    "vocab_size = bert_model.config.vocab_size"
   ],
   "metadata": {
    "colab": {
     "base_uri": "https://localhost:8080/"
    },
    "id": "j5qm0PzEh4L0",
    "outputId": "19afe128-7ca9-40fd-d4cd-5e4fd64af6e5"
   },
   "execution_count": 5,
   "outputs": [
    {
     "output_type": "stream",
     "name": "stderr",
     "text": [
      "Some layers from the model checkpoint at dbmdz/bert-base-turkish-cased were not used when initializing TFBertModel: ['mlm___cls', 'nsp___cls']\n",
      "- This IS expected if you are initializing TFBertModel from the checkpoint of a model trained on another task or with another architecture (e.g. initializing a BertForSequenceClassification model from a BertForPreTraining model).\n",
      "- This IS NOT expected if you are initializing TFBertModel from the checkpoint of a model that you expect to be exactly identical (initializing a BertForSequenceClassification model from a BertForSequenceClassification model).\n",
      "All the layers of TFBertModel were initialized from the model checkpoint at dbmdz/bert-base-turkish-cased.\n",
      "If your task is similar to the task the model of the checkpoint was trained on, you can already use TFBertModel for predictions without further training.\n"
     ]
    }
   ]
  },
  {
   "cell_type": "code",
   "source": [
    "def create_tensor_slices(df):\n",
    "    inputs = bert_tokenizer(df['answer'].tolist(), df['cloze'].tolist(), \n",
    "                            padding='max_length', truncation=True, \n",
    "                            return_tensors='tf')\n",
    "    outputs = bert_tokenizer(df['question'].tolist(), \n",
    "                             padding='max_length', truncation=True, \n",
    "                             return_tensors='tf')\n",
    "    \n",
    "    return tf.data.Dataset.from_tensor_slices((\n",
    "        {'input_ids': inputs.input_ids,\n",
    "            'attention_mask': inputs.attention_mask,\n",
    "            'token_type_ids': inputs.token_type_ids,\n",
    "            'decoder_attention_mask': outputs.attention_mask,\n",
    "            'labels': outputs.input_ids\n",
    "        }, \n",
    "        outputs.input_ids)\n",
    "    )\n",
    "\n",
    "def create_dataset(train_dir, batch_size):\n",
    "    trainval_df = pd.read_csv(train_dir)\n",
    "\n",
    "    train_df = trainval_df.sample(frac=.85, random_state=42)\n",
    "    val_df = trainval_df.drop(train_df.index)\n",
    "\n",
    "    train_data = create_tensor_slices(train_df).shuffle(1000).batch(batch_size)\n",
    "    val_data = create_tensor_slices(val_df).shuffle(1000).batch(batch_size)\n",
    "\n",
    "    return train_data, val_data\n",
    "\n",
    "\n",
    "train_data, val_data = create_dataset(TRAIN_DIR, BATCH_SIZE)"
   ],
   "metadata": {
    "id": "04eVayfKxb1B"
   },
   "execution_count": 6,
   "outputs": []
  },
  {
   "cell_type": "code",
   "source": [
    "def create_model():\n",
    "    input_ids = tf.keras.Input(shape=512, dtype=tf.int32)\n",
    "    attention_mask = tf.keras.Input(shape=512, dtype=tf.int32)\n",
    "    token_type_ids = tf.keras.Input(shape=512, dtype=tf.int32)\n",
    "\n",
    "    decoder_attention_mask = tf.keras.Input(shape=512, dtype=tf.int32)\n",
    "    labels = tf.keras.Input(shape=512, dtype=tf.int32)\n",
    "\n",
    "    bert_outs = bert_model(input_ids=input_ids, \n",
    "                           attention_mask=attention_mask, \n",
    "                           token_type_ids=token_type_ids)\n",
    "    \n",
    "    decoder_encodings = tf.keras.layers.Embedding(vocab_size, 32, input_length=max_position_embeddings)(labels)\n",
    "    rnn_outs = tf.keras.layers.LSTM(32, return_sequences=True)(decoder_encodings)\n",
    "    dense_outs = tf.keras.layers.Dense(vocab_size, activation='softmax')(rnn_outs)\n",
    "\n",
    "    model = tf.keras.Model(inputs={'input_ids': input_ids, \n",
    "                                   'attention_mask': attention_mask, \n",
    "                                   'token_type_ids': token_type_ids,\n",
    "                                   'decoder_attention_mask': decoder_attention_mask,\n",
    "                                   'labels': labels}, \n",
    "                           outputs=dense_outs)\n",
    "    return model\n",
    "\n",
    "model = create_model()\n",
    "model.summary()"
   ],
   "metadata": {
    "colab": {
     "base_uri": "https://localhost:8080/"
    },
    "id": "3qXkPyGWiG9o",
    "outputId": "7332cfea-ffce-4e3c-e58b-4c6b8877eeb7"
   },
   "execution_count": 7,
   "outputs": [
    {
     "output_type": "stream",
     "name": "stdout",
     "text": [
      "Model: \"model\"\n",
      "__________________________________________________________________________________________________\n",
      " Layer (type)                   Output Shape         Param #     Connected to                     \n",
      "==================================================================================================\n",
      " input_5 (InputLayer)           [(None, 512)]        0           []                               \n",
      "                                                                                                  \n",
      " embedding (Embedding)          (None, 512, 32)      1024000     ['input_5[0][0]']                \n",
      "                                                                                                  \n",
      " lstm (LSTM)                    (None, 512, 32)      8320        ['embedding[0][0]']              \n",
      "                                                                                                  \n",
      " input_2 (InputLayer)           [(None, 512)]        0           []                               \n",
      "                                                                                                  \n",
      " input_4 (InputLayer)           [(None, 512)]        0           []                               \n",
      "                                                                                                  \n",
      " input_1 (InputLayer)           [(None, 512)]        0           []                               \n",
      "                                                                                                  \n",
      " input_3 (InputLayer)           [(None, 512)]        0           []                               \n",
      "                                                                                                  \n",
      " dense (Dense)                  (None, 512, 32000)   1056000     ['lstm[0][0]']                   \n",
      "                                                                                                  \n",
      "==================================================================================================\n",
      "Total params: 2,088,320\n",
      "Trainable params: 2,088,320\n",
      "Non-trainable params: 0\n",
      "__________________________________________________________________________________________________\n"
     ]
    }
   ]
  },
  {
   "cell_type": "code",
   "source": [
    "bleu = load('sacrebleu')\n",
    "\n",
    "def get_bleu(x, y):\n",
    "    x = tf.cast(x, tf.int64)\n",
    "    y = tf.argmax(y, axis=-1)\n",
    "\n",
    "    x = bert_tokenizer.batch_decode(x)\n",
    "    y = bert_tokenizer.batch_decode(y)\n",
    "\n",
    "    results = bleu.compute(references=x, predictions=y)\n",
    "    return results['score']"
   ],
   "metadata": {
    "id": "ck17hdNFyyMf"
   },
   "execution_count": 67,
   "outputs": []
  },
  {
   "cell_type": "code",
   "source": [
    "model.compile(optimizer=tf.keras.optimizers.Adadelta(), \n",
    "              loss=tf.keras.losses.SparseCategoricalCrossentropy(), \n",
    "              metrics=get_bleu, run_eagerly = True)"
   ],
   "metadata": {
    "id": "hlIK-Ti0qBKQ"
   },
   "execution_count": 68,
   "outputs": []
  },
  {
   "cell_type": "code",
   "source": [
    "model.fit(train_data, epochs=10, validation_data=val_data)"
   ],
   "metadata": {
    "colab": {
     "base_uri": "https://localhost:8080/"
    },
    "id": "MmV38g9QrA8A",
    "outputId": "6bbebd13-6028-4d54-eb7e-8dd1de4a73a1"
   },
   "execution_count": null,
   "outputs": [
    {
     "output_type": "stream",
     "name": "stdout",
     "text": [
      "Epoch 1/10\n",
      "  9/566 [..............................] - ETA: 37:26 - loss: 10.3723 - get_bleu: 0.0000e+00"
     ]
    }
   ]
  },
  {
   "cell_type": "code",
   "source": [],
   "metadata": {
    "id": "h7BLnxVuQAKO"
   },
   "execution_count": null,
   "outputs": []
  }
 ]
}
