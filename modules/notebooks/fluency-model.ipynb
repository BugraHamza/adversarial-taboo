{
 "cells": [
  {
   "cell_type": "code",
   "execution_count": 16,
   "metadata": {
    "collapsed": true
   },
   "outputs": [],
   "source": [
    "import pandas as pd\n",
    "import numpy as np\n",
    "\n",
    "import torch\n",
    "from torch.utils.data import DataLoader, Dataset\n",
    "import torch.optim as optim\n",
    "\n",
    "from transformers import AutoTokenizer, AutoModelForCausalLM, set_seed, get_linear_schedule_with_warmup\n",
    "\n",
    "from tqdm import tqdm\n",
    "import optuna\n",
    "\n",
    "set_seed(42)"
   ]
  },
  {
   "cell_type": "code",
   "execution_count": 17,
   "outputs": [],
   "source": [
    "def get_gpt_tokenizer(path, max_len=512, more_tokens_dict={}):\n",
    "    tokenizer = AutoTokenizer.from_pretrained(path, model_max_length=max_len)\n",
    "    special_tokens_dict = {'bos_token': '<BOS>', 'eos_token': '<EOS>',\n",
    "                           'pad_token': '<PAD>', 'sep_token': '<SEP>'}\n",
    "\n",
    "    special_tokens_dict = {**special_tokens_dict, **more_tokens_dict}\n",
    "    tokenizer.add_special_tokens(special_tokens_dict)\n",
    "\n",
    "    return tokenizer\n",
    "\n",
    "def get_fluency_model(model_name_or_path, tokenizer_length=None, device='cpu'):\n",
    "    model = AutoModelForCausalLM.from_pretrained(model_name_or_path).to(device=device)\n",
    "\n",
    "    if tokenizer_length:\n",
    "        model.resize_token_embeddings(tokenizer_length)\n",
    "\n",
    "    return model\n",
    "\n",
    "def tokenize(text, tokenizer):\n",
    "    if tokenizer.bos_token is not None:\n",
    "        text = tokenizer.bos_token + text + tokenizer.eos_token\n",
    "\n",
    "    return tokenizer(text, padding='max_length', truncation=True, return_tensors='pt')\n"
   ],
   "metadata": {
    "collapsed": false
   }
  },
  {
   "cell_type": "code",
   "execution_count": 18,
   "outputs": [],
   "source": [
    "class FluencyDataset(Dataset):\n",
    "    def __init__(self, data, tokenizer, device='cpu'):\n",
    "        super().__init__()\n",
    "\n",
    "        self.data = data\n",
    "        self.tokenizer = tokenizer\n",
    "        self.device = device\n",
    "\n",
    "    def __getitem__(self, i):\n",
    "        text = self.tokenizer.bos_token + self.data.content[i] + self.tokenizer.eos_token\n",
    "        tokenized_text = tokenize(text, self.tokenizer)\n",
    "\n",
    "        return {k: v.squeeze().to(self.device) for k, v in tokenized_text.items()}\n",
    "\n",
    "    def __len__(self):\n",
    "        return len(self.data)"
   ],
   "metadata": {
    "collapsed": false
   }
  },
  {
   "cell_type": "code",
   "execution_count": 19,
   "outputs": [],
   "source": [
    "def get_data(data_name, task_name):\n",
    "    if data_name == 'reddit':\n",
    "        if task_name == 'lm':\n",
    "            train_data = pd.read_parquet('taboo-datasets/reddit-dataset/tr-reddit_train.parquet')\n",
    "            val_data = pd.read_parquet('taboo-datasets/reddit-dataset/tr-reddit_val.parquet')\n",
    "            test_data = pd.read_parquet('taboo-datasets/reddit-dataset/tr-reddit_test.parquet')\n",
    "        elif task_name == 'cls':\n",
    "            train_data = pd.read_parquet('taboo-datasets/reddit-dataset/tr-reddit-pairs_train.parquet')\n",
    "            val_data = pd.read_parquet('taboo-datasets/reddit-dataset/tr-reddit-pairs_val.parquet')\n",
    "            test_data = pd.read_parquet('taboo-datasets/reddit-dataset/tr-reddit-pairs_test.parquet')\n",
    "        else:\n",
    "            raise ValueError('Invalid task name')\n",
    "    elif data_name == 'forum_dh':\n",
    "        if task_name == 'lm':\n",
    "            train_data = pd.read_parquet('taboo-datasets/donanim-haber-dataset/forum_dh_train.parquet')\n",
    "            val_data = pd.read_parquet('taboo-datasets/donanim-haber-dataset/forum_dh_val.parquet')\n",
    "            test_data = pd.read_parquet('taboo-datasets/donanim-haber-dataset/forum_dh_test.parquet')\n",
    "        elif task_name == 'cls':\n",
    "            train_data = pd.read_parquet('taboo-datasets/donanim-haber-dataset/forum_dh-pairs_train.parquet')\n",
    "            val_data = pd.read_parquet('taboo-datasets/donanim-haber-dataset/forum_dh-pairs_val.parquet')\n",
    "            test_data = pd.read_parquet('taboo-datasets/donanim-haber-dataset/forum_dh-pairs_test.parquet')\n",
    "        else:\n",
    "            raise ValueError('Invalid task name')\n",
    "    else:\n",
    "        raise ValueError('Invalid data name')\n",
    "\n",
    "    return train_data, val_data, test_data"
   ],
   "metadata": {
    "collapsed": false
   }
  },
  {
   "cell_type": "code",
   "execution_count": 20,
   "outputs": [],
   "source": [
    "def train(model, train_loader, optimizer, scheduler):\n",
    "    model.train()\n",
    "    pbar = tqdm(train_loader)\n",
    "    ppls = []\n",
    "\n",
    "    for batch in pbar:\n",
    "        optimizer.zero_grad()\n",
    "        loss = model(**batch, labels=batch['input_ids']).loss\n",
    "        loss.backward()\n",
    "        optimizer.step()\n",
    "        scheduler.step()\n",
    "\n",
    "        ppls.append(np.exp(loss.item()))\n",
    "        pbar.set_description(f'PPL: {np.mean(ppls):.5f}')\n",
    "\n",
    "    return np.mean(ppls)\n",
    "\n",
    "\n",
    "def evaluate(model, val_loader):\n",
    "    model.eval()\n",
    "    pbar = tqdm(val_loader)\n",
    "    ppls = []\n",
    "    with torch.no_grad():\n",
    "        for batch in pbar:\n",
    "            loss = model(**batch, labels=batch['input_ids']).loss\n",
    "            ppls.append(np.exp(loss.item()))\n",
    "            pbar.set_description(f'PPL: {np.mean(ppls):.5f}')\n",
    "\n",
    "    return np.mean(ppls)\n",
    "\n",
    "\n",
    "def train_val_fn(data_name, model_name, batch_size, learning_rate, num_epochs, device='cpu'):\n",
    "    # load data\n",
    "    train_data, val_data, test_data = get_data(data_name, 'lm')\n",
    "\n",
    "    # create a tokenizer\n",
    "    tokenizer = get_gpt_tokenizer(model_name, max_len=256)\n",
    "\n",
    "    train_set = FluencyDataset(train_data, tokenizer, device=device)\n",
    "    val_set = FluencyDataset(val_data, tokenizer, device=device)\n",
    "\n",
    "    train_loader = DataLoader(train_set, batch_size=batch_size, shuffle=True)\n",
    "    val_loader = DataLoader(val_set, batch_size=batch_size, shuffle=True)\n",
    "    # test_loader = DataLoader(test_set, batch_size=batch_size, shuffle=True)\n",
    "\n",
    "    # create a model\n",
    "    fluency_model = get_fluency_model(model_name, tokenizer_length=len(tokenizer), device=device)\n",
    "\n",
    "    # create an optimizer\n",
    "    optimizer = optim.AdamW(fluency_model.parameters(), lr=learning_rate)\n",
    "\n",
    "    # create a learning rate scheduler\n",
    "    num_training_steps = len(train_loader) * num_epochs\n",
    "    num_warmup_steps = num_training_steps // 10\n",
    "    scheduler = get_linear_schedule_with_warmup(optimizer, num_warmup_steps, num_training_steps)\n",
    "\n",
    "    best_val_ppl = np.inf\n",
    "    for _ in range(num_epochs):\n",
    "        train_ppl = train(fluency_model, train_loader, optimizer, scheduler)\n",
    "        val_ppl = evaluate(fluency_model, val_loader)\n",
    "        print(f'Train PPL: {train_ppl:.5f} - Val PPL: {val_ppl:.5f}')\n",
    "\n",
    "        if val_ppl < best_val_ppl:\n",
    "            fluency_model.save_pretrained('modules/judge_system/saved_fluency_models')\n",
    "            best_val_ppl = val_ppl\n",
    "\n",
    "    return val_ppl"
   ],
   "metadata": {
    "collapsed": false
   }
  },
  {
   "cell_type": "code",
   "execution_count": 21,
   "outputs": [],
   "source": [
    "def objective(trial, data_name, device):\n",
    "    data_name = data_name\n",
    "    model_name = 'redrussianarmy/gpt2-turkish-cased'\n",
    "    batch_size = trial.suggest_int('batch_size', 1, 16)\n",
    "    learning_rate = trial.suggest_float('learning_rate', 1e-6, 1e-2, log=True)\n",
    "    num_epochs = 1\n",
    "\n",
    "    return train_val_fn(data_name, model_name, batch_size, learning_rate, num_epochs, device)\n",
    "\n",
    "def tune_hyperparameters(data_name, num_trials, device):\n",
    "    study = optuna.create_study(study_name='fluency_study', storage='sqlite:///fluency_study.db', direction=\"minimize\",\n",
    "                                load_if_exists=True, pruner=optuna.pruners.SuccessiveHalvingPruner())\n",
    "    study.optimize(lambda x: objective(x, data_name, device), n_trials=num_trials, gc_after_trial=True)\n"
   ],
   "metadata": {
    "collapsed": false
   }
  },
  {
   "cell_type": "code",
   "execution_count": null,
   "outputs": [],
   "source": [
    "train_val_fn('reddit', model_name='redrussianarmy/gpt2-turkish-cased',\n",
    "             batch_size=16, learning_rate=0.0002,\n",
    "             num_epochs=3, device='cpu')"
   ],
   "metadata": {
    "collapsed": false
   }
  }
 ],
 "metadata": {
  "kernelspec": {
   "display_name": "Python 3",
   "language": "python",
   "name": "python3"
  },
  "language_info": {
   "codemirror_mode": {
    "name": "ipython",
    "version": 2
   },
   "file_extension": ".py",
   "mimetype": "text/x-python",
   "name": "python",
   "nbconvert_exporter": "python",
   "pygments_lexer": "ipython2",
   "version": "2.7.6"
  }
 },
 "nbformat": 4,
 "nbformat_minor": 0
}
